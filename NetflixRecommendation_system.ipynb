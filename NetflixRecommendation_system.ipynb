{
 "cells": [
  {
   "cell_type": "code",
   "execution_count": 1,
   "id": "a6a3850d-a29e-41dd-8058-e540aad3a023",
   "metadata": {},
   "outputs": [],
   "source": [
    "import pandas as pd\n",
    "import numpy as np \n",
    "import matplotlib.pyplot as plt "
   ]
  },
  {
   "cell_type": "code",
   "execution_count": 2,
   "id": "f1a1bced-5baa-4f43-b438-c395b7a734a7",
   "metadata": {},
   "outputs": [],
   "source": [
    "import warnings\n",
    "warnings.filterwarnings(\"ignore\")"
   ]
  },
  {
   "cell_type": "code",
   "execution_count": 3,
   "id": "586317a9-f2b8-4ded-b45e-1cded1d7eea9",
   "metadata": {
    "scrolled": true
   },
   "outputs": [],
   "source": [
    "df = pd.read_csv(r\"file:///C:\\Users\\Computech\\Desktop\\intellipaat handson\\DataFrames\\combined_data_1.txt\", names=[\"cust_id\", \"rating\"], header= None, usecols=(0,1)) "
   ]
  },
  {
   "cell_type": "code",
   "execution_count": 4,
   "id": "cb942dcb-a1bc-4e2c-9243-1816d128f8ae",
   "metadata": {},
   "outputs": [
    {
     "data": {
      "text/plain": [
       "(24058263, 2)"
      ]
     },
     "execution_count": 4,
     "metadata": {},
     "output_type": "execute_result"
    }
   ],
   "source": [
    "df.shape"
   ]
  },
  {
   "cell_type": "code",
   "execution_count": 5,
   "id": "63a98a47-f1c9-46f3-bf8c-67d40b055b63",
   "metadata": {},
   "outputs": [
    {
     "name": "stdout",
     "output_type": "stream",
     "text": [
      "<class 'pandas.core.frame.DataFrame'>\n",
      "RangeIndex: 24058263 entries, 0 to 24058262\n",
      "Data columns (total 2 columns):\n",
      " #   Column   Dtype  \n",
      "---  ------   -----  \n",
      " 0   cust_id  object \n",
      " 1   rating   float64\n",
      "dtypes: float64(1), object(1)\n",
      "memory usage: 367.1+ MB\n"
     ]
    }
   ],
   "source": [
    "df.info()"
   ]
  },
  {
   "cell_type": "code",
   "execution_count": 6,
   "id": "839d025c-5831-4575-b7dc-05eb5c7fcef4",
   "metadata": {},
   "outputs": [
    {
     "name": "stdout",
     "output_type": "stream",
     "text": [
      "all the null value in the rating represent the row marking the nulls_s of the following rows\n"
     ]
    },
    {
     "data": {
      "text/plain": [
       "cust_id       0\n",
       "rating     4499\n",
       "dtype: int64"
      ]
     },
     "execution_count": 6,
     "metadata": {},
     "output_type": "execute_result"
    }
   ],
   "source": [
    "print(\"all the null value in the rating represent the row marking the nulls_s of the following rows\")\n",
    "df.isnull().sum()"
   ]
  },
  {
   "cell_type": "code",
   "execution_count": 7,
   "id": "a6ec147f-94bb-4381-80cf-60ef3bab8e02",
   "metadata": {},
   "outputs": [],
   "source": [
    "# df.head(550)"
   ]
  },
  {
   "cell_type": "markdown",
   "id": "40a3fde2-0eaa-4e2d-8b1a-5a4d7be87308",
   "metadata": {
    "jp-MarkdownHeadingCollapsed": true
   },
   "source": [
    "#### Data Processing"
   ]
  },
  {
   "cell_type": "code",
   "execution_count": 8,
   "id": "672094e8-8d52-4cef-8c14-ef7022b95073",
   "metadata": {},
   "outputs": [],
   "source": [
    "nulls_s = df[df[\"rating\"].isnull() == True]"
   ]
  },
  {
   "cell_type": "code",
   "execution_count": 9,
   "id": "1b6aef6b-4e2a-477d-854f-288f22103a48",
   "metadata": {},
   "outputs": [],
   "source": [
    "nulls_s.drop(\"rating\", axis = True, inplace= True)"
   ]
  },
  {
   "cell_type": "code",
   "execution_count": 10,
   "id": "5adae491-e8a0-4ecf-bbcc-e6b7aa7f3a4b",
   "metadata": {},
   "outputs": [],
   "source": [
    "nulls_s.reset_index(inplace= True)"
   ]
  },
  {
   "cell_type": "code",
   "execution_count": 11,
   "id": "83418a4d-8ea8-4bf7-a9c8-ebb78583ed96",
   "metadata": {},
   "outputs": [],
   "source": [
    "nulls_s.drop(\"cust_id\", axis=1, inplace= True)"
   ]
  },
  {
   "cell_type": "code",
   "execution_count": 12,
   "id": "9acf3dcf-b569-49aa-8a1f-cf259a5dbb58",
   "metadata": {},
   "outputs": [],
   "source": [
    "nulls_s.columns= [\"starts\"]"
   ]
  },
  {
   "cell_type": "code",
   "execution_count": 13,
   "id": "87175d5c-9cc0-4776-ad94-40ad772aa306",
   "metadata": {},
   "outputs": [],
   "source": [
    "z = list(zip(nulls_s.starts, nulls_s.starts[1:]))"
   ]
  },
  {
   "cell_type": "code",
   "execution_count": 14,
   "id": "abe9c6fc-264c-468a-9c77-d74947203652",
   "metadata": {},
   "outputs": [],
   "source": [
    "movie_id = []\n",
    "id = 1\n",
    "for i, j in z:\n",
    "    temp = np.full((1,j-i),id)\n",
    "    movie_id = np.append(movie_id,temp)\n",
    "    id+=1\n",
    "\n",
    "last_movie = np.full((1,len(df)-j), id)\n",
    "movie_id = np.append(movie_id, last_movie)"
   ]
  },
  {
   "cell_type": "code",
   "execution_count": 15,
   "id": "ea552a39-7209-41cd-8a4c-002cefe25f6d",
   "metadata": {
    "scrolled": true
   },
   "outputs": [],
   "source": [
    "df['movie_id'] = movie_id.astype(\"int\")"
   ]
  },
  {
   "cell_type": "code",
   "execution_count": 16,
   "id": "70e9171a-cb65-4dfd-a023-0f7cdea0718b",
   "metadata": {},
   "outputs": [],
   "source": [
    "df0 = df"
   ]
  },
  {
   "cell_type": "code",
   "execution_count": 17,
   "id": "126863c7-ba25-4dea-9a2e-fd7e68843a42",
   "metadata": {},
   "outputs": [],
   "source": [
    "df0 = df0[pd.notnull(df0[\"rating\"])]"
   ]
  },
  {
   "cell_type": "code",
   "execution_count": 18,
   "id": "4d9ecc5f-78a7-4592-8bb9-e524043a87f9",
   "metadata": {
    "scrolled": true
   },
   "outputs": [
    {
     "data": {
      "text/html": [
       "<div>\n",
       "<style scoped>\n",
       "    .dataframe tbody tr th:only-of-type {\n",
       "        vertical-align: middle;\n",
       "    }\n",
       "\n",
       "    .dataframe tbody tr th {\n",
       "        vertical-align: top;\n",
       "    }\n",
       "\n",
       "    .dataframe thead th {\n",
       "        text-align: right;\n",
       "    }\n",
       "</style>\n",
       "<table border=\"1\" class=\"dataframe\">\n",
       "  <thead>\n",
       "    <tr style=\"text-align: right;\">\n",
       "      <th></th>\n",
       "      <th>cust_id</th>\n",
       "      <th>rating</th>\n",
       "      <th>movie_id</th>\n",
       "    </tr>\n",
       "  </thead>\n",
       "  <tbody>\n",
       "    <tr>\n",
       "      <th>1</th>\n",
       "      <td>1488844</td>\n",
       "      <td>3.0</td>\n",
       "      <td>1</td>\n",
       "    </tr>\n",
       "    <tr>\n",
       "      <th>2</th>\n",
       "      <td>822109</td>\n",
       "      <td>5.0</td>\n",
       "      <td>1</td>\n",
       "    </tr>\n",
       "    <tr>\n",
       "      <th>3</th>\n",
       "      <td>885013</td>\n",
       "      <td>4.0</td>\n",
       "      <td>1</td>\n",
       "    </tr>\n",
       "    <tr>\n",
       "      <th>4</th>\n",
       "      <td>30878</td>\n",
       "      <td>4.0</td>\n",
       "      <td>1</td>\n",
       "    </tr>\n",
       "    <tr>\n",
       "      <th>5</th>\n",
       "      <td>823519</td>\n",
       "      <td>3.0</td>\n",
       "      <td>1</td>\n",
       "    </tr>\n",
       "    <tr>\n",
       "      <th>...</th>\n",
       "      <td>...</td>\n",
       "      <td>...</td>\n",
       "      <td>...</td>\n",
       "    </tr>\n",
       "    <tr>\n",
       "      <th>24058258</th>\n",
       "      <td>2591364</td>\n",
       "      <td>2.0</td>\n",
       "      <td>4499</td>\n",
       "    </tr>\n",
       "    <tr>\n",
       "      <th>24058259</th>\n",
       "      <td>1791000</td>\n",
       "      <td>2.0</td>\n",
       "      <td>4499</td>\n",
       "    </tr>\n",
       "    <tr>\n",
       "      <th>24058260</th>\n",
       "      <td>512536</td>\n",
       "      <td>5.0</td>\n",
       "      <td>4499</td>\n",
       "    </tr>\n",
       "    <tr>\n",
       "      <th>24058261</th>\n",
       "      <td>988963</td>\n",
       "      <td>3.0</td>\n",
       "      <td>4499</td>\n",
       "    </tr>\n",
       "    <tr>\n",
       "      <th>24058262</th>\n",
       "      <td>1704416</td>\n",
       "      <td>3.0</td>\n",
       "      <td>4499</td>\n",
       "    </tr>\n",
       "  </tbody>\n",
       "</table>\n",
       "<p>24053764 rows × 3 columns</p>\n",
       "</div>"
      ],
      "text/plain": [
       "          cust_id  rating  movie_id\n",
       "1         1488844     3.0         1\n",
       "2          822109     5.0         1\n",
       "3          885013     4.0         1\n",
       "4           30878     4.0         1\n",
       "5          823519     3.0         1\n",
       "...           ...     ...       ...\n",
       "24058258  2591364     2.0      4499\n",
       "24058259  1791000     2.0      4499\n",
       "24058260   512536     5.0      4499\n",
       "24058261   988963     3.0      4499\n",
       "24058262  1704416     3.0      4499\n",
       "\n",
       "[24053764 rows x 3 columns]"
      ]
     },
     "execution_count": 18,
     "metadata": {},
     "output_type": "execute_result"
    }
   ],
   "source": [
    "df0"
   ]
  },
  {
   "cell_type": "code",
   "execution_count": 19,
   "id": "ab864981-e481-4d53-97d8-7af9f8b075dc",
   "metadata": {},
   "outputs": [],
   "source": [
    "df0[\"cust_id\"] = df0[\"cust_id\"].astype(\"int\")"
   ]
  },
  {
   "cell_type": "code",
   "execution_count": 20,
   "id": "6c45cfd3-78e1-4328-897b-e6113bb74995",
   "metadata": {},
   "outputs": [
    {
     "data": {
      "text/plain": [
       "cust_id       int32\n",
       "rating      float64\n",
       "movie_id      int32\n",
       "dtype: object"
      ]
     },
     "execution_count": 20,
     "metadata": {},
     "output_type": "execute_result"
    }
   ],
   "source": [
    "df0.dtypes"
   ]
  },
  {
   "cell_type": "code",
   "execution_count": 21,
   "id": "3cae1aef-0106-4028-ba8e-e509232321b1",
   "metadata": {},
   "outputs": [
    {
     "data": {
      "text/plain": [
       "(24053764, 3)"
      ]
     },
     "execution_count": 21,
     "metadata": {},
     "output_type": "execute_result"
    }
   ],
   "source": [
    "df0.shape"
   ]
  },
  {
   "cell_type": "markdown",
   "id": "ea71448c-dcfc-4d88-a49c-b33bfba46136",
   "metadata": {
    "jp-MarkdownHeadingCollapsed": true
   },
   "source": [
    "#### Removing movies with low no.of.ratings out of recommendation system "
   ]
  },
  {
   "cell_type": "code",
   "execution_count": 22,
   "id": "00a23131-a67b-4a89-b77a-14fd8ce8552b",
   "metadata": {},
   "outputs": [
    {
     "data": {
      "text/html": [
       "<div>\n",
       "<style scoped>\n",
       "    .dataframe tbody tr th:only-of-type {\n",
       "        vertical-align: middle;\n",
       "    }\n",
       "\n",
       "    .dataframe tbody tr th {\n",
       "        vertical-align: top;\n",
       "    }\n",
       "\n",
       "    .dataframe thead th {\n",
       "        text-align: right;\n",
       "    }\n",
       "</style>\n",
       "<table border=\"1\" class=\"dataframe\">\n",
       "  <thead>\n",
       "    <tr style=\"text-align: right;\">\n",
       "      <th></th>\n",
       "      <th>cust_id</th>\n",
       "      <th>rating</th>\n",
       "      <th>movie_id</th>\n",
       "    </tr>\n",
       "  </thead>\n",
       "  <tbody>\n",
       "    <tr>\n",
       "      <th>count</th>\n",
       "      <td>2.405376e+07</td>\n",
       "      <td>2.405376e+07</td>\n",
       "      <td>2.405376e+07</td>\n",
       "    </tr>\n",
       "    <tr>\n",
       "      <th>mean</th>\n",
       "      <td>1.322285e+06</td>\n",
       "      <td>3.599634e+00</td>\n",
       "      <td>2.308324e+03</td>\n",
       "    </tr>\n",
       "    <tr>\n",
       "      <th>std</th>\n",
       "      <td>7.645779e+05</td>\n",
       "      <td>1.086118e+00</td>\n",
       "      <td>1.303909e+03</td>\n",
       "    </tr>\n",
       "    <tr>\n",
       "      <th>min</th>\n",
       "      <td>6.000000e+00</td>\n",
       "      <td>1.000000e+00</td>\n",
       "      <td>1.000000e+00</td>\n",
       "    </tr>\n",
       "    <tr>\n",
       "      <th>25%</th>\n",
       "      <td>6.609270e+05</td>\n",
       "      <td>3.000000e+00</td>\n",
       "      <td>1.180000e+03</td>\n",
       "    </tr>\n",
       "    <tr>\n",
       "      <th>50%</th>\n",
       "      <td>1.318602e+06</td>\n",
       "      <td>4.000000e+00</td>\n",
       "      <td>2.342000e+03</td>\n",
       "    </tr>\n",
       "    <tr>\n",
       "      <th>75%</th>\n",
       "      <td>1.984358e+06</td>\n",
       "      <td>4.000000e+00</td>\n",
       "      <td>3.433000e+03</td>\n",
       "    </tr>\n",
       "    <tr>\n",
       "      <th>max</th>\n",
       "      <td>2.649429e+06</td>\n",
       "      <td>5.000000e+00</td>\n",
       "      <td>4.499000e+03</td>\n",
       "    </tr>\n",
       "  </tbody>\n",
       "</table>\n",
       "</div>"
      ],
      "text/plain": [
       "            cust_id        rating      movie_id\n",
       "count  2.405376e+07  2.405376e+07  2.405376e+07\n",
       "mean   1.322285e+06  3.599634e+00  2.308324e+03\n",
       "std    7.645779e+05  1.086118e+00  1.303909e+03\n",
       "min    6.000000e+00  1.000000e+00  1.000000e+00\n",
       "25%    6.609270e+05  3.000000e+00  1.180000e+03\n",
       "50%    1.318602e+06  4.000000e+00  2.342000e+03\n",
       "75%    1.984358e+06  4.000000e+00  3.433000e+03\n",
       "max    2.649429e+06  5.000000e+00  4.499000e+03"
      ]
     },
     "execution_count": 22,
     "metadata": {},
     "output_type": "execute_result"
    }
   ],
   "source": [
    "df0.describe()"
   ]
  },
  {
   "cell_type": "code",
   "execution_count": 23,
   "id": "9ea67309-b76e-4d34-b2af-13ec5f9f9ce5",
   "metadata": {},
   "outputs": [],
   "source": [
    "func = [\"count\"]\n",
    "df0_movie_id = df0.groupby(\"movie_id\")[\"rating\"].agg(func)"
   ]
  },
  {
   "cell_type": "code",
   "execution_count": 24,
   "id": "8a584dcd-1304-4603-b679-87c4ab0e4a81",
   "metadata": {},
   "outputs": [
    {
     "data": {
      "text/html": [
       "<div>\n",
       "<style scoped>\n",
       "    .dataframe tbody tr th:only-of-type {\n",
       "        vertical-align: middle;\n",
       "    }\n",
       "\n",
       "    .dataframe tbody tr th {\n",
       "        vertical-align: top;\n",
       "    }\n",
       "\n",
       "    .dataframe thead th {\n",
       "        text-align: right;\n",
       "    }\n",
       "</style>\n",
       "<table border=\"1\" class=\"dataframe\">\n",
       "  <thead>\n",
       "    <tr style=\"text-align: right;\">\n",
       "      <th></th>\n",
       "      <th>count</th>\n",
       "    </tr>\n",
       "  </thead>\n",
       "  <tbody>\n",
       "    <tr>\n",
       "      <th>count</th>\n",
       "      <td>4499.000000</td>\n",
       "    </tr>\n",
       "    <tr>\n",
       "      <th>mean</th>\n",
       "      <td>5346.468993</td>\n",
       "    </tr>\n",
       "    <tr>\n",
       "      <th>std</th>\n",
       "      <td>16176.313851</td>\n",
       "    </tr>\n",
       "    <tr>\n",
       "      <th>min</th>\n",
       "      <td>36.000000</td>\n",
       "    </tr>\n",
       "    <tr>\n",
       "      <th>25%</th>\n",
       "      <td>192.000000</td>\n",
       "    </tr>\n",
       "    <tr>\n",
       "      <th>50%</th>\n",
       "      <td>552.000000</td>\n",
       "    </tr>\n",
       "    <tr>\n",
       "      <th>75%</th>\n",
       "      <td>2538.000000</td>\n",
       "    </tr>\n",
       "    <tr>\n",
       "      <th>max</th>\n",
       "      <td>193941.000000</td>\n",
       "    </tr>\n",
       "  </tbody>\n",
       "</table>\n",
       "</div>"
      ],
      "text/plain": [
       "               count\n",
       "count    4499.000000\n",
       "mean     5346.468993\n",
       "std     16176.313851\n",
       "min        36.000000\n",
       "25%       192.000000\n",
       "50%       552.000000\n",
       "75%      2538.000000\n",
       "max    193941.000000"
      ]
     },
     "execution_count": 24,
     "metadata": {},
     "output_type": "execute_result"
    }
   ],
   "source": [
    "df0_movie_id.describe()"
   ]
  },
  {
   "cell_type": "code",
   "execution_count": 25,
   "id": "7797a5cf-5fdb-484b-beb2-1ebc7fa23c74",
   "metadata": {},
   "outputs": [
    {
     "data": {
      "text/plain": [
       "{'whiskers': [<matplotlib.lines.Line2D at 0x263000b2d10>,\n",
       "  <matplotlib.lines.Line2D at 0x263000b3990>],\n",
       " 'caps': [<matplotlib.lines.Line2D at 0x2637b671f90>,\n",
       "  <matplotlib.lines.Line2D at 0x263000bd3d0>],\n",
       " 'boxes': [<matplotlib.lines.Line2D at 0x2630008d690>],\n",
       " 'medians': [<matplotlib.lines.Line2D at 0x263000bded0>],\n",
       " 'fliers': [<matplotlib.lines.Line2D at 0x263000be8d0>],\n",
       " 'means': []}"
      ]
     },
     "execution_count": 25,
     "metadata": {},
     "output_type": "execute_result"
    },
    {
     "data": {
      "image/png": "[encoded data removed]",
      "text/plain": [
       "<Figure size 640x480 with 1 Axes>"
      ]
     },
     "metadata": {},
     "output_type": "display_data"
    }
   ],
   "source": [
    "plt.boxplot(df0_movie_id)"
   ]
  },
  {
   "cell_type": "code",
   "execution_count": 26,
   "id": "e539640a-ed4e-48cb-a2c7-395562e18a07",
   "metadata": {},
   "outputs": [
    {
     "data": {
      "text/plain": [
       "1799"
      ]
     },
     "execution_count": 26,
     "metadata": {},
     "output_type": "execute_result"
    }
   ],
   "source": [
    "movie_benchmark = round(df0_movie_id.quantile(0.7),0)\n",
    "movie_benchmark = int(movie_benchmark)\n",
    "movie_benchmark"
   ]
  },
  {
   "cell_type": "code",
   "execution_count": 27,
   "id": "78529384-e296-4fcc-a03c-62ddf778ed08",
   "metadata": {
    "scrolled": true
   },
   "outputs": [
    {
     "data": {
      "text/html": [
       "<div>\n",
       "<style scoped>\n",
       "    .dataframe tbody tr th:only-of-type {\n",
       "        vertical-align: middle;\n",
       "    }\n",
       "\n",
       "    .dataframe tbody tr th {\n",
       "        vertical-align: top;\n",
       "    }\n",
       "\n",
       "    .dataframe thead th {\n",
       "        text-align: right;\n",
       "    }\n",
       "</style>\n",
       "<table border=\"1\" class=\"dataframe\">\n",
       "  <thead>\n",
       "    <tr style=\"text-align: right;\">\n",
       "      <th></th>\n",
       "      <th>count</th>\n",
       "    </tr>\n",
       "    <tr>\n",
       "      <th>movie_id</th>\n",
       "      <th></th>\n",
       "    </tr>\n",
       "  </thead>\n",
       "  <tbody>\n",
       "    <tr>\n",
       "      <th>1</th>\n",
       "      <td>547</td>\n",
       "    </tr>\n",
       "    <tr>\n",
       "      <th>2</th>\n",
       "      <td>145</td>\n",
       "    </tr>\n",
       "    <tr>\n",
       "      <th>3</th>\n",
       "      <td>2012</td>\n",
       "    </tr>\n",
       "    <tr>\n",
       "      <th>4</th>\n",
       "      <td>142</td>\n",
       "    </tr>\n",
       "    <tr>\n",
       "      <th>5</th>\n",
       "      <td>1140</td>\n",
       "    </tr>\n",
       "    <tr>\n",
       "      <th>...</th>\n",
       "      <td>...</td>\n",
       "    </tr>\n",
       "    <tr>\n",
       "      <th>4495</th>\n",
       "      <td>614</td>\n",
       "    </tr>\n",
       "    <tr>\n",
       "      <th>4496</th>\n",
       "      <td>9519</td>\n",
       "    </tr>\n",
       "    <tr>\n",
       "      <th>4497</th>\n",
       "      <td>714</td>\n",
       "    </tr>\n",
       "    <tr>\n",
       "      <th>4498</th>\n",
       "      <td>269</td>\n",
       "    </tr>\n",
       "    <tr>\n",
       "      <th>4499</th>\n",
       "      <td>428</td>\n",
       "    </tr>\n",
       "  </tbody>\n",
       "</table>\n",
       "<p>4499 rows × 1 columns</p>\n",
       "</div>"
      ],
      "text/plain": [
       "          count\n",
       "movie_id       \n",
       "1           547\n",
       "2           145\n",
       "3          2012\n",
       "4           142\n",
       "5          1140\n",
       "...         ...\n",
       "4495        614\n",
       "4496       9519\n",
       "4497        714\n",
       "4498        269\n",
       "4499        428\n",
       "\n",
       "[4499 rows x 1 columns]"
      ]
     },
     "execution_count": 27,
     "metadata": {},
     "output_type": "execute_result"
    }
   ],
   "source": [
    "df0_movie_id"
   ]
  },
  {
   "cell_type": "code",
   "execution_count": 28,
   "id": "88395e23-e647-465d-b746-019a31734f2b",
   "metadata": {},
   "outputs": [],
   "source": [
    "movie_id_drop = df0_movie_id[df0_movie_id[\"count\"] < movie_benchmark].index"
   ]
  },
  {
   "cell_type": "code",
   "execution_count": 29,
   "id": "b559c703-9e26-4029-83e6-11399fcebe66",
   "metadata": {},
   "outputs": [
    {
     "data": {
      "text/plain": [
       "Index([   1,    2,    4,    5,    6,    7,    9,   10,   11,   12,\n",
       "       ...\n",
       "       4484, 4486, 4487, 4489, 4491, 4494, 4495, 4497, 4498, 4499],\n",
       "      dtype='int32', name='movie_id', length=3149)"
      ]
     },
     "execution_count": 29,
     "metadata": {},
     "output_type": "execute_result"
    }
   ],
   "source": [
    "movie_id_drop"
   ]
  },
  {
   "cell_type": "code",
   "execution_count": 30,
   "id": "c2ebabab-7311-4996-ac56-0f840732efbc",
   "metadata": {},
   "outputs": [],
   "source": [
    "df0_cust_id = df0.groupby(\"cust_id\")[\"rating\"].agg(func)"
   ]
  },
  {
   "cell_type": "code",
   "execution_count": 31,
   "id": "1a08c5df-dc7d-41d2-b78f-ab507e4c1028",
   "metadata": {},
   "outputs": [
    {
     "data": {
      "text/plain": [
       "52"
      ]
     },
     "execution_count": 31,
     "metadata": {},
     "output_type": "execute_result"
    }
   ],
   "source": [
    "cust_benchmark = round(df0_cust_id.quantile(0.7),0)\n",
    "cust_benchmark = int(cust_benchmark)\n",
    "cust_benchmark"
   ]
  },
  {
   "cell_type": "code",
   "execution_count": 32,
   "id": "fa71f108-6490-4b04-9ab2-d55cc105d1df",
   "metadata": {},
   "outputs": [],
   "source": [
    "cust_id_drop = df0_cust_id[df0_cust_id[\"count\"] < cust_benchmark].index"
   ]
  },
  {
   "cell_type": "code",
   "execution_count": 33,
   "id": "b804db63-4400-481a-a4c6-be17a7fceeec",
   "metadata": {},
   "outputs": [
    {
     "data": {
      "text/plain": [
       "Index([      8,      10,      25,      33,      42,      59,      83,      87,\n",
       "            94,     116,\n",
       "       ...\n",
       "       2649343, 2649351, 2649375, 2649376, 2649379, 2649384, 2649401, 2649404,\n",
       "       2649409, 2649421],\n",
       "      dtype='int32', name='cust_id', length=327300)"
      ]
     },
     "execution_count": 33,
     "metadata": {},
     "output_type": "execute_result"
    }
   ],
   "source": [
    "cust_id_drop"
   ]
  },
  {
   "cell_type": "code",
   "execution_count": 34,
   "id": "fb966aba-f6f2-43eb-be6b-2ccd96d9d76c",
   "metadata": {},
   "outputs": [],
   "source": [
    "df0 = df0[~df0[\"movie_id\"].isin(movie_id_drop)]\n",
    "df0 = df0[~df0[\"cust_id\"].isin(cust_id_drop)]"
   ]
  },
  {
   "cell_type": "code",
   "execution_count": 35,
   "id": "b5434533-ac58-4836-ab32-a0aaba55233f",
   "metadata": {},
   "outputs": [
    {
     "data": {
      "text/html": [
       "<div>\n",
       "<style scoped>\n",
       "    .dataframe tbody tr th:only-of-type {\n",
       "        vertical-align: middle;\n",
       "    }\n",
       "\n",
       "    .dataframe tbody tr th {\n",
       "        vertical-align: top;\n",
       "    }\n",
       "\n",
       "    .dataframe thead th {\n",
       "        text-align: right;\n",
       "    }\n",
       "</style>\n",
       "<table border=\"1\" class=\"dataframe\">\n",
       "  <thead>\n",
       "    <tr style=\"text-align: right;\">\n",
       "      <th></th>\n",
       "      <th>cust_id</th>\n",
       "      <th>rating</th>\n",
       "      <th>movie_id</th>\n",
       "    </tr>\n",
       "  </thead>\n",
       "  <tbody>\n",
       "    <tr>\n",
       "      <th>696</th>\n",
       "      <td>712664</td>\n",
       "      <td>5.0</td>\n",
       "      <td>3</td>\n",
       "    </tr>\n",
       "    <tr>\n",
       "      <th>697</th>\n",
       "      <td>1331154</td>\n",
       "      <td>4.0</td>\n",
       "      <td>3</td>\n",
       "    </tr>\n",
       "    <tr>\n",
       "      <th>698</th>\n",
       "      <td>2632461</td>\n",
       "      <td>3.0</td>\n",
       "      <td>3</td>\n",
       "    </tr>\n",
       "    <tr>\n",
       "      <th>699</th>\n",
       "      <td>44937</td>\n",
       "      <td>5.0</td>\n",
       "      <td>3</td>\n",
       "    </tr>\n",
       "    <tr>\n",
       "      <th>700</th>\n",
       "      <td>656399</td>\n",
       "      <td>4.0</td>\n",
       "      <td>3</td>\n",
       "    </tr>\n",
       "    <tr>\n",
       "      <th>...</th>\n",
       "      <td>...</td>\n",
       "      <td>...</td>\n",
       "      <td>...</td>\n",
       "    </tr>\n",
       "    <tr>\n",
       "      <th>24056841</th>\n",
       "      <td>520675</td>\n",
       "      <td>3.0</td>\n",
       "      <td>4496</td>\n",
       "    </tr>\n",
       "    <tr>\n",
       "      <th>24056842</th>\n",
       "      <td>1055714</td>\n",
       "      <td>5.0</td>\n",
       "      <td>4496</td>\n",
       "    </tr>\n",
       "    <tr>\n",
       "      <th>24056843</th>\n",
       "      <td>2643029</td>\n",
       "      <td>4.0</td>\n",
       "      <td>4496</td>\n",
       "    </tr>\n",
       "    <tr>\n",
       "      <th>24056845</th>\n",
       "      <td>1559566</td>\n",
       "      <td>3.0</td>\n",
       "      <td>4496</td>\n",
       "    </tr>\n",
       "    <tr>\n",
       "      <th>24056846</th>\n",
       "      <td>293198</td>\n",
       "      <td>3.0</td>\n",
       "      <td>4496</td>\n",
       "    </tr>\n",
       "  </tbody>\n",
       "</table>\n",
       "<p>17337458 rows × 3 columns</p>\n",
       "</div>"
      ],
      "text/plain": [
       "          cust_id  rating  movie_id\n",
       "696        712664     5.0         3\n",
       "697       1331154     4.0         3\n",
       "698       2632461     3.0         3\n",
       "699         44937     5.0         3\n",
       "700        656399     4.0         3\n",
       "...           ...     ...       ...\n",
       "24056841   520675     3.0      4496\n",
       "24056842  1055714     5.0      4496\n",
       "24056843  2643029     4.0      4496\n",
       "24056845  1559566     3.0      4496\n",
       "24056846   293198     3.0      4496\n",
       "\n",
       "[17337458 rows x 3 columns]"
      ]
     },
     "execution_count": 35,
     "metadata": {},
     "output_type": "execute_result"
    }
   ],
   "source": [
    "df0"
   ]
  },
  {
   "cell_type": "markdown",
   "id": "a01768c8-4230-400b-b4eb-e2989e841e5c",
   "metadata": {},
   "source": [
    "### Pivot Table "
   ]
  },
  {
   "cell_type": "code",
   "execution_count": 36,
   "id": "0d926c63-21bf-4ce9-8227-a776f0106b1f",
   "metadata": {},
   "outputs": [],
   "source": [
    "df_p = pd.pivot_table(data= df0, index= \"cust_id\", values= \"rating\", columns= \"movie_id\")"
   ]
  },
  {
   "cell_type": "markdown",
   "id": "3b30c655-407c-4f30-a52c-b815f7c1dc60",
   "metadata": {},
   "source": [
    "#### Importing the movie titles `"
   ]
  },
  {
   "cell_type": "code",
   "execution_count": 37,
   "id": "8ad1de14-8069-49b7-923c-118b3221ee13",
   "metadata": {},
   "outputs": [],
   "source": [
    "df0_title = pd.read_csv(r\"file:///C:\\Users\\Computech\\Desktop\\intellipaat handson\\DataFrames\\movie_titles _1_ (2).csv\", usecols=(0,1,2), names= [\"movie_id\", \"year\", \"title\"], encoding= \"ISO-8859-1\")"
   ]
  },
  {
   "cell_type": "code",
   "execution_count": 38,
   "id": "af498a0f-d091-4755-a325-7a109155137f",
   "metadata": {},
   "outputs": [
    {
     "data": {
      "text/html": [
       "<div>\n",
       "<style scoped>\n",
       "    .dataframe tbody tr th:only-of-type {\n",
       "        vertical-align: middle;\n",
       "    }\n",
       "\n",
       "    .dataframe tbody tr th {\n",
       "        vertical-align: top;\n",
       "    }\n",
       "\n",
       "    .dataframe thead th {\n",
       "        text-align: right;\n",
       "    }\n",
       "</style>\n",
       "<table border=\"1\" class=\"dataframe\">\n",
       "  <thead>\n",
       "    <tr style=\"text-align: right;\">\n",
       "      <th></th>\n",
       "      <th>year</th>\n",
       "      <th>title</th>\n",
       "    </tr>\n",
       "    <tr>\n",
       "      <th>movie_id</th>\n",
       "      <th></th>\n",
       "      <th></th>\n",
       "    </tr>\n",
       "  </thead>\n",
       "  <tbody>\n",
       "    <tr>\n",
       "      <th>1</th>\n",
       "      <td>2003.0</td>\n",
       "      <td>Dinosaur Planet</td>\n",
       "    </tr>\n",
       "    <tr>\n",
       "      <th>2</th>\n",
       "      <td>2004.0</td>\n",
       "      <td>Isle of Man TT 2004 Review</td>\n",
       "    </tr>\n",
       "    <tr>\n",
       "      <th>3</th>\n",
       "      <td>1997.0</td>\n",
       "      <td>Character</td>\n",
       "    </tr>\n",
       "    <tr>\n",
       "      <th>4</th>\n",
       "      <td>1994.0</td>\n",
       "      <td>Paula Abdul's Get Up &amp; Dance</td>\n",
       "    </tr>\n",
       "    <tr>\n",
       "      <th>5</th>\n",
       "      <td>2004.0</td>\n",
       "      <td>The Rise and Fall of ECW</td>\n",
       "    </tr>\n",
       "    <tr>\n",
       "      <th>...</th>\n",
       "      <td>...</td>\n",
       "      <td>...</td>\n",
       "    </tr>\n",
       "    <tr>\n",
       "      <th>17766</th>\n",
       "      <td>2002.0</td>\n",
       "      <td>Where the Wild Things Are and Other Maurice Se...</td>\n",
       "    </tr>\n",
       "    <tr>\n",
       "      <th>17767</th>\n",
       "      <td>2004.0</td>\n",
       "      <td>Fidel Castro: American Experience</td>\n",
       "    </tr>\n",
       "    <tr>\n",
       "      <th>17768</th>\n",
       "      <td>2000.0</td>\n",
       "      <td>Epoch</td>\n",
       "    </tr>\n",
       "    <tr>\n",
       "      <th>17769</th>\n",
       "      <td>2003.0</td>\n",
       "      <td>The Company</td>\n",
       "    </tr>\n",
       "    <tr>\n",
       "      <th>17770</th>\n",
       "      <td>2003.0</td>\n",
       "      <td>Alien Hunter</td>\n",
       "    </tr>\n",
       "  </tbody>\n",
       "</table>\n",
       "<p>17769 rows × 2 columns</p>\n",
       "</div>"
      ],
      "text/plain": [
       "            year                                              title\n",
       "movie_id                                                           \n",
       "1         2003.0                                    Dinosaur Planet\n",
       "2         2004.0                         Isle of Man TT 2004 Review\n",
       "3         1997.0                                          Character\n",
       "4         1994.0                       Paula Abdul's Get Up & Dance\n",
       "5         2004.0                           The Rise and Fall of ECW\n",
       "...          ...                                                ...\n",
       "17766     2002.0  Where the Wild Things Are and Other Maurice Se...\n",
       "17767     2004.0                  Fidel Castro: American Experience\n",
       "17768     2000.0                                              Epoch\n",
       "17769     2003.0                                        The Company\n",
       "17770     2003.0                                       Alien Hunter\n",
       "\n",
       "[17769 rows x 2 columns]"
      ]
     },
     "execution_count": 38,
     "metadata": {},
     "output_type": "execute_result"
    }
   ],
   "source": [
    "df0_title.set_index(\"movie_id\", inplace= True)\n",
    "df0_title"
   ]
  },
  {
   "cell_type": "markdown",
   "id": "9048f4b2-a474-4e9b-98c4-795c1a8f84ac",
   "metadata": {},
   "source": [
    "#### Building The Model"
   ]
  },
  {
   "cell_type": "code",
   "execution_count": 39,
   "id": "b5dd67fb-313f-4652-a33d-3c7ccfd32375",
   "metadata": {},
   "outputs": [],
   "source": [
    "import math\n",
    "from surprise import Dataset, Reader, SVD\n",
    "from surprise.model_selection import cross_validate"
   ]
  },
  {
   "cell_type": "code",
   "execution_count": 40,
   "id": "2f5db70d-403e-467c-9d83-dc1ce81b2b6e",
   "metadata": {},
   "outputs": [],
   "source": [
    "reader = Reader()\n",
    "dataset = Dataset.load_from_df(df0[[\"cust_id\", \"movie_id\", \"rating\"]], reader)"
   ]
  },
  {
   "cell_type": "code",
   "execution_count": 41,
   "id": "3fb942a1-c2d0-4c5c-a31b-7cf9cae22bd6",
   "metadata": {},
   "outputs": [],
   "source": [
    "svd = SVD()"
   ]
  },
  {
   "cell_type": "code",
   "execution_count": 42,
   "id": "d54d321b-0856-400d-939f-4048250980d9",
   "metadata": {},
   "outputs": [],
   "source": [
    "# cross_validate(svd, dataset, measures=['rmse', 'mae'], cv=3, verbose= True)"
   ]
  },
  {
   "cell_type": "code",
   "execution_count": 43,
   "id": "a28c1b2b-fbae-4c8a-b100-97ed992dcf39",
   "metadata": {},
   "outputs": [
    {
     "data": {
      "text/html": [
       "<div>\n",
       "<style scoped>\n",
       "    .dataframe tbody tr th:only-of-type {\n",
       "        vertical-align: middle;\n",
       "    }\n",
       "\n",
       "    .dataframe tbody tr th {\n",
       "        vertical-align: top;\n",
       "    }\n",
       "\n",
       "    .dataframe thead th {\n",
       "        text-align: right;\n",
       "    }\n",
       "</style>\n",
       "<table border=\"1\" class=\"dataframe\">\n",
       "  <thead>\n",
       "    <tr style=\"text-align: right;\">\n",
       "      <th></th>\n",
       "      <th>movie_id</th>\n",
       "      <th>year</th>\n",
       "      <th>title</th>\n",
       "    </tr>\n",
       "  </thead>\n",
       "  <tbody>\n",
       "    <tr>\n",
       "      <th>0</th>\n",
       "      <td>1</td>\n",
       "      <td>2003.0</td>\n",
       "      <td>Dinosaur Planet</td>\n",
       "    </tr>\n",
       "    <tr>\n",
       "      <th>1</th>\n",
       "      <td>2</td>\n",
       "      <td>2004.0</td>\n",
       "      <td>Isle of Man TT 2004 Review</td>\n",
       "    </tr>\n",
       "    <tr>\n",
       "      <th>2</th>\n",
       "      <td>3</td>\n",
       "      <td>1997.0</td>\n",
       "      <td>Character</td>\n",
       "    </tr>\n",
       "    <tr>\n",
       "      <th>3</th>\n",
       "      <td>4</td>\n",
       "      <td>1994.0</td>\n",
       "      <td>Paula Abdul's Get Up &amp; Dance</td>\n",
       "    </tr>\n",
       "    <tr>\n",
       "      <th>4</th>\n",
       "      <td>5</td>\n",
       "      <td>2004.0</td>\n",
       "      <td>The Rise and Fall of ECW</td>\n",
       "    </tr>\n",
       "    <tr>\n",
       "      <th>...</th>\n",
       "      <td>...</td>\n",
       "      <td>...</td>\n",
       "      <td>...</td>\n",
       "    </tr>\n",
       "    <tr>\n",
       "      <th>17764</th>\n",
       "      <td>17766</td>\n",
       "      <td>2002.0</td>\n",
       "      <td>Where the Wild Things Are and Other Maurice Se...</td>\n",
       "    </tr>\n",
       "    <tr>\n",
       "      <th>17765</th>\n",
       "      <td>17767</td>\n",
       "      <td>2004.0</td>\n",
       "      <td>Fidel Castro: American Experience</td>\n",
       "    </tr>\n",
       "    <tr>\n",
       "      <th>17766</th>\n",
       "      <td>17768</td>\n",
       "      <td>2000.0</td>\n",
       "      <td>Epoch</td>\n",
       "    </tr>\n",
       "    <tr>\n",
       "      <th>17767</th>\n",
       "      <td>17769</td>\n",
       "      <td>2003.0</td>\n",
       "      <td>The Company</td>\n",
       "    </tr>\n",
       "    <tr>\n",
       "      <th>17768</th>\n",
       "      <td>17770</td>\n",
       "      <td>2003.0</td>\n",
       "      <td>Alien Hunter</td>\n",
       "    </tr>\n",
       "  </tbody>\n",
       "</table>\n",
       "<p>17769 rows × 3 columns</p>\n",
       "</div>"
      ],
      "text/plain": [
       "       movie_id    year                                              title\n",
       "0             1  2003.0                                    Dinosaur Planet\n",
       "1             2  2004.0                         Isle of Man TT 2004 Review\n",
       "2             3  1997.0                                          Character\n",
       "3             4  1994.0                       Paula Abdul's Get Up & Dance\n",
       "4             5  2004.0                           The Rise and Fall of ECW\n",
       "...         ...     ...                                                ...\n",
       "17764     17766  2002.0  Where the Wild Things Are and Other Maurice Se...\n",
       "17765     17767  2004.0                  Fidel Castro: American Experience\n",
       "17766     17768  2000.0                                              Epoch\n",
       "17767     17769  2003.0                                        The Company\n",
       "17768     17770  2003.0                                       Alien Hunter\n",
       "\n",
       "[17769 rows x 3 columns]"
      ]
     },
     "execution_count": 43,
     "metadata": {},
     "output_type": "execute_result"
    }
   ],
   "source": [
    "user_712664 = df0_title.reset_index().copy()\n",
    "user_712664"
   ]
  },
  {
   "cell_type": "code",
   "execution_count": 44,
   "id": "6a8002bd-5969-4454-9908-2625cc6f96c9",
   "metadata": {},
   "outputs": [],
   "source": [
    "user_712664 = user_712664[~user_712664[\"movie_id\"].isin(movie_id_drop)]\n",
    "user_1055714 = user_712664.copy()"
   ]
  },
  {
   "cell_type": "code",
   "execution_count": 45,
   "id": "71079606-f49e-4241-8dcb-1cc44fcd71e5",
   "metadata": {},
   "outputs": [
    {
     "data": {
      "text/plain": [
       "<surprise.prediction_algorithms.matrix_factorization.SVD at 0x2630152cf90>"
      ]
     },
     "execution_count": 45,
     "metadata": {},
     "output_type": "execute_result"
    }
   ],
   "source": [
    "trainset = dataset.build_full_trainset()\n",
    "svd.fit(trainset)"
   ]
  },
  {
   "cell_type": "code",
   "execution_count": 56,
   "id": "0cca0f7d-21de-4c08-a74c-ffdb22c05bf4",
   "metadata": {},
   "outputs": [],
   "source": [
    "user_712664[\"estimate_score\"] = user_712664[\"movie_id\"].apply(lambda x: svd.predict(712664, x).est)"
   ]
  },
  {
   "cell_type": "code",
   "execution_count": 57,
   "id": "7022248d-4004-4374-b56a-6e6ece51bc50",
   "metadata": {},
   "outputs": [
    {
     "data": {
      "text/html": [
       "<div>\n",
       "<style scoped>\n",
       "    .dataframe tbody tr th:only-of-type {\n",
       "        vertical-align: middle;\n",
       "    }\n",
       "\n",
       "    .dataframe tbody tr th {\n",
       "        vertical-align: top;\n",
       "    }\n",
       "\n",
       "    .dataframe thead th {\n",
       "        text-align: right;\n",
       "    }\n",
       "</style>\n",
       "<table border=\"1\" class=\"dataframe\">\n",
       "  <thead>\n",
       "    <tr style=\"text-align: right;\">\n",
       "      <th></th>\n",
       "      <th>movie_id</th>\n",
       "      <th>year</th>\n",
       "      <th>title</th>\n",
       "      <th>estimate_score</th>\n",
       "    </tr>\n",
       "  </thead>\n",
       "  <tbody>\n",
       "    <tr>\n",
       "      <th>4426</th>\n",
       "      <td>4427</td>\n",
       "      <td>2001.0</td>\n",
       "      <td>The West Wing: Season 3</td>\n",
       "      <td>4.924122</td>\n",
       "    </tr>\n",
       "    <tr>\n",
       "      <th>3455</th>\n",
       "      <td>3456</td>\n",
       "      <td>2004.0</td>\n",
       "      <td>Lost: Season 1</td>\n",
       "      <td>4.744927</td>\n",
       "    </tr>\n",
       "    <tr>\n",
       "      <th>2451</th>\n",
       "      <td>2452</td>\n",
       "      <td>2001.0</td>\n",
       "      <td>Lord of the Rings: The Fellowship of the Ring</td>\n",
       "      <td>4.555634</td>\n",
       "    </tr>\n",
       "    <tr>\n",
       "      <th>2113</th>\n",
       "      <td>2114</td>\n",
       "      <td>2002.0</td>\n",
       "      <td>Firefly</td>\n",
       "      <td>4.841268</td>\n",
       "    </tr>\n",
       "    <tr>\n",
       "      <th>2404</th>\n",
       "      <td>2405</td>\n",
       "      <td>2003.0</td>\n",
       "      <td>MI-5: Vol. 2</td>\n",
       "      <td>4.703864</td>\n",
       "    </tr>\n",
       "    <tr>\n",
       "      <th>...</th>\n",
       "      <td>...</td>\n",
       "      <td>...</td>\n",
       "      <td>...</td>\n",
       "      <td>...</td>\n",
       "    </tr>\n",
       "    <tr>\n",
       "      <th>2275</th>\n",
       "      <td>2276</td>\n",
       "      <td>1998.0</td>\n",
       "      <td>Spice World</td>\n",
       "      <td>1.220285</td>\n",
       "    </tr>\n",
       "    <tr>\n",
       "      <th>1362</th>\n",
       "      <td>1363</td>\n",
       "      <td>1993.0</td>\n",
       "      <td>Leprechaun</td>\n",
       "      <td>2.116167</td>\n",
       "    </tr>\n",
       "    <tr>\n",
       "      <th>2474</th>\n",
       "      <td>2475</td>\n",
       "      <td>1993.0</td>\n",
       "      <td>Jason Goes to Hell</td>\n",
       "      <td>1.890620</td>\n",
       "    </tr>\n",
       "    <tr>\n",
       "      <th>748</th>\n",
       "      <td>749</td>\n",
       "      <td>1990.0</td>\n",
       "      <td>Ernest Goes to Jail</td>\n",
       "      <td>1.812945</td>\n",
       "    </tr>\n",
       "    <tr>\n",
       "      <th>3504</th>\n",
       "      <td>3505</td>\n",
       "      <td>2001.0</td>\n",
       "      <td>Freddy Got Fingered</td>\n",
       "      <td>1.894644</td>\n",
       "    </tr>\n",
       "  </tbody>\n",
       "</table>\n",
       "<p>14620 rows × 4 columns</p>\n",
       "</div>"
      ],
      "text/plain": [
       "      movie_id    year                                          title  \\\n",
       "4426      4427  2001.0                        The West Wing: Season 3   \n",
       "3455      3456  2004.0                                 Lost: Season 1   \n",
       "2451      2452  2001.0  Lord of the Rings: The Fellowship of the Ring   \n",
       "2113      2114  2002.0                                        Firefly   \n",
       "2404      2405  2003.0                                   MI-5: Vol. 2   \n",
       "...        ...     ...                                            ...   \n",
       "2275      2276  1998.0                                    Spice World   \n",
       "1362      1363  1993.0                                     Leprechaun   \n",
       "2474      2475  1993.0                             Jason Goes to Hell   \n",
       "748        749  1990.0                            Ernest Goes to Jail   \n",
       "3504      3505  2001.0                            Freddy Got Fingered   \n",
       "\n",
       "      estimate_score  \n",
       "4426        4.924122  \n",
       "3455        4.744927  \n",
       "2451        4.555634  \n",
       "2113        4.841268  \n",
       "2404        4.703864  \n",
       "...              ...  \n",
       "2275        1.220285  \n",
       "1362        2.116167  \n",
       "2474        1.890620  \n",
       "748         1.812945  \n",
       "3504        1.894644  \n",
       "\n",
       "[14620 rows x 4 columns]"
      ]
     },
     "execution_count": 57,
     "metadata": {},
     "output_type": "execute_result"
    }
   ],
   "source": [
    "user_712664\n",
    "# .drop(\"movie_id\", axis= 1, inplace= True)"
   ]
  },
  {
   "cell_type": "code",
   "execution_count": 59,
   "id": "87a27e85-957c-444c-ad12-b8c741e73eac",
   "metadata": {},
   "outputs": [
    {
     "data": {
      "text/html": [
       "<div>\n",
       "<style scoped>\n",
       "    .dataframe tbody tr th:only-of-type {\n",
       "        vertical-align: middle;\n",
       "    }\n",
       "\n",
       "    .dataframe tbody tr th {\n",
       "        vertical-align: top;\n",
       "    }\n",
       "\n",
       "    .dataframe thead th {\n",
       "        text-align: right;\n",
       "    }\n",
       "</style>\n",
       "<table border=\"1\" class=\"dataframe\">\n",
       "  <thead>\n",
       "    <tr style=\"text-align: right;\">\n",
       "      <th></th>\n",
       "      <th>movie_id</th>\n",
       "      <th>year</th>\n",
       "      <th>title</th>\n",
       "      <th>estimate_score</th>\n",
       "    </tr>\n",
       "  </thead>\n",
       "  <tbody>\n",
       "    <tr>\n",
       "      <th>871</th>\n",
       "      <td>872</td>\n",
       "      <td>1954.0</td>\n",
       "      <td>Seven Samurai</td>\n",
       "      <td>5.0</td>\n",
       "    </tr>\n",
       "    <tr>\n",
       "      <th>3443</th>\n",
       "      <td>3444</td>\n",
       "      <td>2004.0</td>\n",
       "      <td>Family Guy: Freakin' Sweet Collection</td>\n",
       "      <td>5.0</td>\n",
       "    </tr>\n",
       "    <tr>\n",
       "      <th>2171</th>\n",
       "      <td>2172</td>\n",
       "      <td>1991.0</td>\n",
       "      <td>The Simpsons: Season 3</td>\n",
       "      <td>5.0</td>\n",
       "    </tr>\n",
       "    <tr>\n",
       "      <th>995</th>\n",
       "      <td>996</td>\n",
       "      <td>1961.0</td>\n",
       "      <td>Yojimbo</td>\n",
       "      <td>5.0</td>\n",
       "    </tr>\n",
       "    <tr>\n",
       "      <th>4114</th>\n",
       "      <td>4115</td>\n",
       "      <td>1999.0</td>\n",
       "      <td>The Simpsons: Bart Wars</td>\n",
       "      <td>5.0</td>\n",
       "    </tr>\n",
       "    <tr>\n",
       "      <th>174</th>\n",
       "      <td>175</td>\n",
       "      <td>1992.0</td>\n",
       "      <td>Reservoir Dogs</td>\n",
       "      <td>5.0</td>\n",
       "    </tr>\n",
       "    <tr>\n",
       "      <th>3289</th>\n",
       "      <td>3290</td>\n",
       "      <td>1974.0</td>\n",
       "      <td>The Godfather</td>\n",
       "      <td>5.0</td>\n",
       "    </tr>\n",
       "    <tr>\n",
       "      <th>773</th>\n",
       "      <td>774</td>\n",
       "      <td>2003.0</td>\n",
       "      <td>Foyle's War: Set 2</td>\n",
       "      <td>5.0</td>\n",
       "    </tr>\n",
       "    <tr>\n",
       "      <th>4352</th>\n",
       "      <td>4353</td>\n",
       "      <td>2002.0</td>\n",
       "      <td>Curb Your Enthusiasm: Season 3</td>\n",
       "      <td>5.0</td>\n",
       "    </tr>\n",
       "    <tr>\n",
       "      <th>721</th>\n",
       "      <td>722</td>\n",
       "      <td>2003.0</td>\n",
       "      <td>The Wire: Season 1</td>\n",
       "      <td>5.0</td>\n",
       "    </tr>\n",
       "  </tbody>\n",
       "</table>\n",
       "</div>"
      ],
      "text/plain": [
       "      movie_id    year                                  title  estimate_score\n",
       "871        872  1954.0                          Seven Samurai             5.0\n",
       "3443      3444  2004.0  Family Guy: Freakin' Sweet Collection             5.0\n",
       "2171      2172  1991.0                 The Simpsons: Season 3             5.0\n",
       "995        996  1961.0                                Yojimbo             5.0\n",
       "4114      4115  1999.0                The Simpsons: Bart Wars             5.0\n",
       "174        175  1992.0                         Reservoir Dogs             5.0\n",
       "3289      3290  1974.0                          The Godfather             5.0\n",
       "773        774  2003.0                     Foyle's War: Set 2             5.0\n",
       "4352      4353  2002.0         Curb Your Enthusiasm: Season 3             5.0\n",
       "721        722  2003.0                     The Wire: Season 1             5.0"
      ]
     },
     "execution_count": 59,
     "metadata": {},
     "output_type": "execute_result"
    }
   ],
   "source": [
    "user_712664 = user_712664.sort_values(\"estimate_score\", ascending= False)\n",
    "user_712664.head(10)"
   ]
  },
  {
   "cell_type": "markdown",
   "id": "90d5afe0-a73a-4858-8199-bedb70dc27a2",
   "metadata": {
    "jp-MarkdownHeadingCollapsed": true
   },
   "source": [
    "#### Checking for difference between my dataset and teach dataset"
   ]
  },
  {
   "cell_type": "code",
   "execution_count": 49,
   "id": "3b9ed318-a69b-4ed7-a714-2b333a575f35",
   "metadata": {},
   "outputs": [],
   "source": [
    "# df0"
   ]
  },
  {
   "cell_type": "code",
   "execution_count": 50,
   "id": "eee38454-9d56-4beb-b06f-9bba956d2ef3",
   "metadata": {},
   "outputs": [],
   "source": [
    "# df0t = df0.reset_index()\n",
    "# # df0t.drop(\"index\", axis= 1, inplace= True)"
   ]
  },
  {
   "cell_type": "code",
   "execution_count": 51,
   "id": "b4d1b434-405b-4e15-b18c-e6d90a83c475",
   "metadata": {},
   "outputs": [],
   "source": [
    "# df0i = pd.read_csv(r\"file:///C:\\Users\\Computech\\Desktop\\intellipaat handson\\MyCodes\\net_data\")"
   ]
  },
  {
   "cell_type": "code",
   "execution_count": 52,
   "id": "f33cd081-2693-41d2-b80e-e5bac6a29ba6",
   "metadata": {},
   "outputs": [],
   "source": [
    "# df0i.columns = df0.columns"
   ]
  },
  {
   "cell_type": "code",
   "execution_count": 53,
   "id": "c223fbe4-8744-436a-9a1c-e2ce57e77c7a",
   "metadata": {},
   "outputs": [],
   "source": [
    "# df0i"
   ]
  },
  {
   "cell_type": "code",
   "execution_count": 54,
   "id": "5ec319ea-8671-4cf2-8edd-0d5517f0d153",
   "metadata": {},
   "outputs": [],
   "source": [
    "# diff = pd.concat([df0i, df0]).drop_duplicates(keep= False)"
   ]
  },
  {
   "cell_type": "code",
   "execution_count": 55,
   "id": "39a51f5f-37b7-4ab0-a7ea-40236c95c897",
   "metadata": {},
   "outputs": [],
   "source": [
    "# diff0 = df0t != df0i"
   ]
  }
 ],
 "metadata": {
  "kernelspec": {
   "display_name": "Python 3 (ipykernel)",
   "language": "python",
   "name": "python3"
  },
  "language_info": {
   "codemirror_mode": {
    "name": "ipython",
    "version": 3
   },
   "file_extension": ".py",
   "mimetype": "text/x-python",
   "name": "python",
   "nbconvert_exporter": "python",
   "pygments_lexer": "ipython3",
   "version": "3.11.7"
  }
 },
 "nbformat": 4,
 "nbformat_minor": 5
}
